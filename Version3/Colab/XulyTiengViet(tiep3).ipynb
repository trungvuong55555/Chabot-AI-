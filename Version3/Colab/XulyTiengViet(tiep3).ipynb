{
  "nbformat": 4,
  "nbformat_minor": 0,
  "metadata": {
    "colab": {
      "name": "XulyTiengViet(tiep3).ipynb",
      "provenance": [],
      "collapsed_sections": []
    },
    "kernelspec": {
      "name": "python3",
      "display_name": "Python 3"
    },
    "language_info": {
      "name": "python"
    }
  },
  "cells": [
    {
      "cell_type": "markdown",
      "metadata": {
        "id": "rzCcNeKCVR06"
      },
      "source": [
        "Trong phần này sẽ thay thế bóc tách từ tiếng việt từ underthesea thành Pyvi"
      ]
    },
    {
      "cell_type": "code",
      "metadata": {
        "colab": {
          "base_uri": "https://localhost:8080/"
        },
        "id": "2D1LxbszU9C4",
        "outputId": "6ad0c31b-95c9-4295-ed98-02bec743dffd"
      },
      "source": [
        "!pip install pyvi"
      ],
      "execution_count": 1,
      "outputs": [
        {
          "output_type": "stream",
          "text": [
            "Collecting pyvi\n",
            "  Downloading pyvi-0.1.1-py2.py3-none-any.whl (8.5 MB)\n",
            "\u001b[K     |████████████████████████████████| 8.5 MB 5.0 MB/s \n",
            "\u001b[?25hCollecting sklearn-crfsuite\n",
            "  Downloading sklearn_crfsuite-0.3.6-py2.py3-none-any.whl (12 kB)\n",
            "Requirement already satisfied: scikit-learn in /usr/local/lib/python3.7/dist-packages (from pyvi) (0.22.2.post1)\n",
            "Requirement already satisfied: numpy>=1.11.0 in /usr/local/lib/python3.7/dist-packages (from scikit-learn->pyvi) (1.19.5)\n",
            "Requirement already satisfied: scipy>=0.17.0 in /usr/local/lib/python3.7/dist-packages (from scikit-learn->pyvi) (1.4.1)\n",
            "Requirement already satisfied: joblib>=0.11 in /usr/local/lib/python3.7/dist-packages (from scikit-learn->pyvi) (1.0.1)\n",
            "Requirement already satisfied: tqdm>=2.0 in /usr/local/lib/python3.7/dist-packages (from sklearn-crfsuite->pyvi) (4.62.0)\n",
            "Requirement already satisfied: tabulate in /usr/local/lib/python3.7/dist-packages (from sklearn-crfsuite->pyvi) (0.8.9)\n",
            "Requirement already satisfied: six in /usr/local/lib/python3.7/dist-packages (from sklearn-crfsuite->pyvi) (1.15.0)\n",
            "Collecting python-crfsuite>=0.8.3\n",
            "  Downloading python_crfsuite-0.9.7-cp37-cp37m-manylinux1_x86_64.whl (743 kB)\n",
            "\u001b[K     |████████████████████████████████| 743 kB 48.4 MB/s \n",
            "\u001b[?25hInstalling collected packages: python-crfsuite, sklearn-crfsuite, pyvi\n",
            "Successfully installed python-crfsuite-0.9.7 pyvi-0.1.1 sklearn-crfsuite-0.3.6\n"
          ],
          "name": "stdout"
        }
      ]
    },
    {
      "cell_type": "code",
      "metadata": {
        "id": "Aw9Opdf2VQwD"
      },
      "source": [
        "from sklearn import preprocessing\n",
        "import numpy as np\n",
        "import pandas as pd\n",
        "from sklearn.feature_extraction.text import CountVectorizer, TfidfVectorizer\n",
        "from pyvi import ViTokenizer\n",
        "import re\n",
        "from sklearn.feature_extraction.text import CountVectorizer\n",
        "from sklearn.model_selection import train_test_split\n",
        "from sklearn.naive_bayes import MultinomialNB\n",
        "import pickle\n",
        "import nltk\n",
        "from sklearn.model_selection import KFold\n",
        "from sklearn.model_selection import cross_val_score\n",
        "from sklearn.metrics import accuracy_score"
      ],
      "execution_count": 2,
      "outputs": []
    },
    {
      "cell_type": "code",
      "metadata": {
        "colab": {
          "base_uri": "https://localhost:8080/"
        },
        "id": "KEgLpucZVfrK",
        "outputId": "6c8195c5-843b-4c71-878f-d12468bffc01"
      },
      "source": [
        "data = pd.read_excel('/content/Data2.xlsx')\n",
        "X= data[\"question\"]\n",
        "Y= data[\"answer\"]\n",
        "print(\"thuoc tinh dieu kien\")\n",
        "print(X)\n",
        "print(\"thuoc tinh can du doan\")\n",
        "print(Y)"
      ],
      "execution_count": 3,
      "outputs": [
        {
          "output_type": "stream",
          "text": [
            "thuoc tinh dieu kien\n",
            "0                                            Tạm biệt bot\n",
            "1                                                 Goodbye\n",
            "2                                    Tạm biệt mày nhé bot\n",
            "3                                           Chào tạm biệt\n",
            "4                                Ngày mai gặp lại nhé bot\n",
            "                              ...                        \n",
            "2419    ngành học nào là lựa chọn  tốt nhất trong khoa...\n",
            "2420    phân biệt giữa ngành khoa học máy tính và ngàn...\n",
            "2421    phân biệt, khác biệt, tốt nhất, đặc biệt, phân...\n",
            "2422    Phân biệt giữa  các ngành học trong khoa công ...\n",
            "2423    Nên lựa chọn ngành học nào trong khoa công ngh...\n",
            "Name: question, Length: 2424, dtype: object\n",
            "thuoc tinh can du doan\n",
            "0                                                     bye\n",
            "1                                                     bye\n",
            "2                                                     bye\n",
            "3                                                     bye\n",
            "4                                                     bye\n",
            "                              ...                        \n",
            "2419    nghành KHMT thiên về nghiên cứu, nghành KTPM c...\n",
            "2420    nghành KHMT thiên về nghiên cứu, nghành KTPM c...\n",
            "2421    nghành KHMT thiên về nghiên cứu, nghành KTPM c...\n",
            "2422    nghành KHMT thiên về nghiên cứu, nghành KTPM c...\n",
            "2423    nghành KHMT thiên về nghiên cứu, nghành KTPM c...\n",
            "Name: answer, Length: 2424, dtype: object\n"
          ],
          "name": "stdout"
        }
      ]
    },
    {
      "cell_type": "code",
      "metadata": {
        "colab": {
          "base_uri": "https://localhost:8080/"
        },
        "id": "7hF-LDj-Vjhp",
        "outputId": "2f5e9606-f479-4688-c6f8-384e2f592a2f"
      },
      "source": [
        "#Tiep theo chung ta se ma hoa Y sao cho no hop ly\n",
        "le = preprocessing.LabelEncoder()\n",
        "le.fit(Y)\n",
        "\n",
        "list_label = list(le.classes_)\n",
        "\n",
        "print(list_label)\n",
        "print(len(list_label))\n",
        "\n",
        "label = le.transform(Y)\n",
        "print(label)"
      ],
      "execution_count": 4,
      "outputs": [
        {
          "output_type": "stream",
          "text": [
            "['Chỉ tiêu xét tuyển ngành công nghệ thông tin: 390', 'Chỉ tiêu xét tuyển ngành hệ thống thông tin: 120', 'Chỉ tiêu xét tuyển ngành hệ thống thông tin: 130', 'Chỉ tiêu xét tuyển ngành khoa học máy tính: 120', 'Chỉ tiêu xét tuyển ngành kỹ thuật phần mềm: 250', 'Các hoạt động ngoại khóa: CLB tin học, CLB Tiếng Anh, CLB tình nguyện, CLB văn nghệ,….', 'Các khoa thường xuyên tổ chức các chương trình văn nghệ thường niên các sinh viên giao lưu học hỏi', 'Có 3 loại phòng kí túc xá: Phòng thường, chất lượng cao và vip. Giá từ 100.000 đến 550.000', 'Có 3 loại phòng kí túc xá: Phòng thường, chất lượng cao và vip. Giá từ 100.000 đến 550.001', 'Có 3 loại phòng kí túc xá: Phòng thường, chất lượng cao và vip. Giá từ 100.000 đến 550.002', 'Có 3 loại phòng kí túc xá: Phòng thường, chất lượng cao và vip. Giá từ 100.000 đến 550.003', 'Có 3 loại phòng kí túc xá: Phòng thường, chất lượng cao và vip. Giá từ 100.000 đến 550.004', 'Có 3 loại phòng kí túc xá: Phòng thường, chất lượng cao và vip. Giá từ 100.000 đến 550.005', 'Có 3 loại phòng kí túc xá: Phòng thường, chất lượng cao và vip. Giá từ 100.000 đến 550.006', 'Có 3 loại phòng kí túc xá: Phòng thường, chất lượng cao và vip. Giá từ 100.000 đến 550.007', 'Có 3 loại phòng kí túc xá: Phòng thường, chất lượng cao và vip. Giá từ 100.000 đến 550.008', 'Có 3 loại phòng kí túc xá: Phòng thường, chất lượng cao và vip. Giá từ 100.000 đến 550.009', 'Có 3 loại phòng kí túc xá: Phòng thường, chất lượng cao và vip. Giá từ 100.000 đến 550.010', 'Có 3 loại phòng kí túc xá: Phòng thường, chất lượng cao và vip. Giá từ 100.000 đến 550.011', 'Có 3 loại phòng kí túc xá: Phòng thường, chất lượng cao và vip. Giá từ 100.000 đến 550.012', 'Có 3 loại phòng kí túc xá: Phòng thường, chất lượng cao và vip. Giá từ 100.000 đến 550.013', 'Có 3 loại phòng kí túc xá: Phòng thường, chất lượng cao và vip. Giá từ 100.000 đến 550.014', 'Có 3 loại phòng kí túc xá: Phòng thường, chất lượng cao và vip. Giá từ 100.000 đến 550.015', 'Có 3 loại phòng kí túc xá: Phòng thường, chất lượng cao và vip. Giá từ 100.000 đến 550.016', 'Có 3 loại phòng kí túc xá: Phòng thường, chất lượng cao và vip. Giá từ 100.000 đến 550.017', 'Có 3 loại phòng kí túc xá: Phòng thường, chất lượng cao và vip. Giá từ 100.000 đến 550.018', 'Có 3 loại phòng kí túc xá: Phòng thường, chất lượng cao và vip. Giá từ 100.000 đến 550.019', 'Có 3 loại phòng kí túc xá: Phòng thường, chất lượng cao và vip. Giá từ 100.000 đến 550.020', 'Có 3 loại phòng kí túc xá: Phòng thường, chất lượng cao và vip. Giá từ 100.000 đến 550.021', 'Có 3 loại phòng kí túc xá: Phòng thường, chất lượng cao và vip. Giá từ 100.000 đến 550.022', 'Có 3 loại phòng kí túc xá: Phòng thường, chất lượng cao và vip. Giá từ 100.000 đến 550.023', 'Có 3 loại phòng kí túc xá: Phòng thường, chất lượng cao và vip. Giá từ 100.000 đến 550.024', 'Có 3 loại phòng kí túc xá: Phòng thường, chất lượng cao và vip. Giá từ 100.000 đến 550.025', 'Có 3 loại phòng kí túc xá: Phòng thường, chất lượng cao và vip. Giá từ 100.000 đến 550.026', 'Có 3 loại phòng kí túc xá: Phòng thường, chất lượng cao và vip. Giá từ 100.000 đến 550.027', 'Có 3 loại phòng kí túc xá: Phòng thường, chất lượng cao và vip. Giá từ 100.000 đến 550.028', 'Có 3 loại phòng kí túc xá: Phòng thường, chất lượng cao và vip. Giá từ 100.000 đến 550.029', 'Có 3 loại phòng kí túc xá: Phòng thường, chất lượng cao và vip. Giá từ 100.000 đến 550.030', 'Có 3 loại phòng kí túc xá: Phòng thường, chất lượng cao và vip. Giá từ 100.000 đến 550.031', 'Có 3 loại phòng kí túc xá: Phòng thường, chất lượng cao và vip. Giá từ 100.000 đến 550.032', 'Có 3 loại phòng kí túc xá: Phòng thường, chất lượng cao và vip. Giá từ 100.000 đến 550.033', 'Có 3 loại phòng kí túc xá: Phòng thường, chất lượng cao và vip. Giá từ 100.000 đến 550.034', 'Có 3 loại phòng kí túc xá: Phòng thường, chất lượng cao và vip. Giá từ 100.000 đến 550.035', 'Có 3 loại phòng kí túc xá: Phòng thường, chất lượng cao và vip. Giá từ 100.000 đến 550.036', 'Có 3 loại phòng kí túc xá: Phòng thường, chất lượng cao và vip. Giá từ 100.000 đến 550.037', 'Có 3 loại phòng kí túc xá: Phòng thường, chất lượng cao và vip. Giá từ 100.000 đến 550.038', 'Có 4 ngành: Công nghệ thông tin, Khoa học máy tính, Hệ thống thông tin, Kỹ Thuật phần mềm', 'Có nhiều phòng thực hành với máy cấu hình cao đáp ứng đầy đủ yêu cầu học tập cho các học phần.', 'Có đầy đủ kiến thức và kỹ năng có thể đáp ứng nhu cầu nhà tuyển dụng', 'Cả 3 cơ sở đều có kí túc xá trong trường với những giá tiền các loại phòng khác nhau  ở từng cơ sở', 'Giỏi toán giúp ta rèn luyện tư duy logic.', 'Hàng kỳ, nhà trường dành một phần kinh phí để trao học bổng cho sinh viên đạt kết quả cao trong học tập.', 'Hình thức đào tạo ngành công nghệ thông tin: Hình thức chính quy', 'Hình thức đào tạo ngành hệ thống thông tin: Hình thức chính quy', 'Hình thức đào tạo ngành khoa học máy tính: Hình thức chính quy', 'Hình thức đào tạo ngành kỹ thuật phần mềm: Hình thức chính quy', 'Khoa có các câu lạc bộ: HIT (chuyên về học thuật), ISTAR (Văn nghệ),CLB Tiếng Anh,Thanh niên tình nguyện…', 'Không bị nợ môn nào và điểm tích lũy 2.5 trở lên', 'Không bị nợ môn và có tích lũy 2.5 trở lên', 'Không nợ môn nào và có điểm tích lũy 2.5 trở lên', 'Không nợ môn nào, điểm tích lũy 2.5 trở lên', 'Mã ngành công nghệ thông tin: 7480201', 'Mã ngành hệ thống thông tin: 7480104', 'Mã ngành khoa học máy tính: 7480101', 'Mã ngành kỹ thuật phần mềm: 7480103', 'Ngành công nghê thông tin là một ngành đào tạo hàng đầu của trường Đại hoc Công Nghiệp Hà Nội', 'Ngành công nghệ thông tin cần đạt trình độ ngoại ngữ bậc 3', 'Ngành công nghệ thông tin sinh viên được học: Nền tảng khoa học tự nhiên, kiến thức cơ bản mạng máy máy, lập trình, phần mềm,…', 'Ngành công nghệ thông tin thực tập tốt nghiệp vào cuối năm 4', 'Ngành công nghệ thông tin đào tạo: Công nghệ mạng, các ngôn ngữ lập trình, trí tuệ nhân tạo(AI) và các kỹ năng mềm,….', 'Ngành hệ thống thông tin cần đạt trình độ ngoại ngữ bậc 3', 'Ngành hệ thống thông tin sinh viên được học: Nền tảng khoa học tự nhiên, kiến thức cơ bản mạng máy máy, lập trình, phần mềm,…', 'Ngành hệ thống thông tin thực tập tốt nghiệp vào cuối năm 4', 'Ngành hệ thống thông tin đào tạo: Công nghệ mạng, các ngôn ngữ lập trình, trí tuệ nhân tạo(AI) và các kỹ năng mềm,….', 'Ngành khoa học máy tính cần đạt trình độ ngoại ngữ bậc 3', 'Ngành khoa học máy tính sinh viên được học: Nền tảng khoa học tự nhiên, kiến thức cơ bản mạng máy máy, lập trình, phần mềm,…', 'Ngành khoa học máy tính thực tập tốt nghiệp vào cuối năm 4', 'Ngành khoa học máy tính đào tạo: Công nghệ mạng, các ngôn ngữ lập trình, trí tuệ nhân tạo(AI) và các kỹ năng mềm,….', 'Ngành kỹ thuật phần mềm cần đạt trình độ ngoại ngữ bậc 3', 'Ngành kỹ thuật phần mềm sinh viên được học: Nền tảng khoa học tự nhiên, kiến thức cơ bản mạng máy máy, lập trình, phần mềm,…', 'Ngành kỹ thuật phần mềm thực tập tốt nghiệp vào cuối năm 4', 'Ngành kỹ thuật phần mềm đào tạo: Công nghệ mạng, các ngôn ngữ lập trình, trí tuệ nhân tạo(AI) và các kỹ năng mềm,….', 'Những công việc ngành công nghệ thông tin: Lập trình web, Quản trị mạng, Phân tích dữ liệu, Trí tuệ nhân tạo…', 'Những công việc ngành hệ thống thông tin: Lập trình web, Quản trị mạng, Phân tích dữ liệu, Trí tuệ nhân tạo…', 'Những công việc ngành khoa học máy tính: Lập trình web, Quản trị mạng, Phân tích dữ liệu, Trí tuệ nhân tạo…', 'Những công việc ngành kỹ thuật phần mềm: Lập trình web, Quản trị mạng, Phân tích dữ liệu, Trí tuệ nhân tạo…', 'Những ngôn ngữ lập trình: C, C++, C#, Java, JavaScript, Python, PHP.', 'Những ngôn ngữ lập trình: C, C++, Java, C#, JavaScript, PHP, Python.', 'Những ngôn ngữ lập trình: Java, C, C++, C#, JavaScript, PHP, Python.', 'Năm nhất sẽ đi quân sự ở cơ sở 3 Hà Nam với thời gian 4 tuần', 'Năm đầu học ở cơ sở 3(Phủ Lý, Hà Nam)', 'Sau tốt nghiệp, làm những lĩnh vực ngành công nghệ thông tin: Các doanh nghiệp thiết kế, gia công, phát triển phầm mềm', 'Sau tốt nghiệp, làm những lĩnh vực ngành hệ thống thông tin: Các doanh nghiệp thiết kế, gia công, phát triển phầm mềm', 'Sau tốt nghiệp, làm những lĩnh vực ngành khoa học máy tính: Các doanh nghiệp thiết kế, gia công, phát triển phầm mềm', 'Sau tốt nghiệp, làm những lĩnh vực ngành kỹ thuật phần mềm: Các doanh nghiệp thiết kế, gia công, phát triển phầm mềm', 'Sinh viên câu lạc bộ  được lợi ích  giao lưu học hỏi nhiều hơn về kiến thức cũng như khả năng giao tiếp,….', 'Thông minh và sáng tạo, đam mê công nghệ, trình độ ngoại ngữ, trau dồi kiến thức, ham học hỏi.', 'Thời gian đào tạo ngành công nghệ thông tin: 4 năm', 'Thời gian đào tạo ngành hệ thống thông tin: 4 năm', 'Thời gian đào tạo ngành khoa học máy tính: 4 năm', 'Thời gian đào tạo ngành kỹ thuật phần mềm: 4 năm', 'Trường Đại Học Công Nghiệp Hà Nội là trường uy tín chất lượng cao. Sau khi ra trường sinh viên có thể đáp ứng đủ nhu cầu của nhà tuyển dụng', 'Trọ ở những khu vực tây tựu,văn trì và những nơi xung quanh trường giá rất rẻ, hợp lý…', 'Tổ hợp xét tuyển ngành công nghệ thông tin: A00, A01', 'Tổ hợp xét tuyển ngành hệ thống thông tin: A00, A01', 'Tổ hợp xét tuyển ngành khoa học máy tính: A00, A01', 'Tổ hợp xét tuyển ngành kỹ thuật phần mềm: A00, A01', 'Tổng tín chỉ ngành hệ thống thông tin: 149 ', 'Tổng tín chỉ ngành khoa học máy tính: 149 ', 'Tổng tín chỉ ngành kỹ thuật phần mềm: 147', 'Tổng tính chỉ ngành công nghệ thông tin: 149 ', 'Văn phòng khoa công nghệ thông tin: Tầng 6 nhà A1 Đại Học Công Nghiệp Hà Nội', 'Website: fit.haui.edu.vn', 'bye', 'cảm ơn bạn', 'cố lên ', 'hí hí hí hí …..', 'nghành KHMT thiên về nghiên cứu, nghành KTPM chuyên về phần mềm, ngành CNTT học nhiều mảng, HTTT chuyên về hệ thống', 'noanswer', 'năm học này 1 tín chỉ giá 350k, đối với tín chỉ thực hành và bài tập lớn hệ số nhân đôi', 'thật', 'tôi không biết', 'tôi được tạo bởi các thành viên trong nhóm 16 môn mã nguồn mở', 'xin chào bạn, chúng tôi có thể giúp được gì cho bạn', 'xin lỗi bạn', 'Đam mê công nghệ, thông minh và có óc sáng tạo, ham học hỏi, trau dồi kiến thức, trình độ ngoại ngữ.', 'Đam mê công nghệ, thông minh và có óc sáng tạo, ham học hỏi, trình độ ngoại ngữ, trau dồi kiến thức.', 'Đam mê công nghệ, thông minh và có óc sáng tạo, trình độ ngoại ngữ, trau dồi kiến thức, ham học hỏi.', 'Điều kiện học bổng: không trượt môn nào, học trên 15 tín trên kì, điểm tích lũy kì thuộc top của ngành', 'Điểm chuẩn ngành công nghệ thông tin năm 2018: 20.6 điểm', 'Điểm chuẩn ngành công nghệ thông tin năm 2019: 23 điểm', 'Điểm chuẩn ngành công nghệ thông tin năm 2020: 25.6 điểm', 'Điểm chuẩn ngành công nghệ thông tin năm 2021: 25.8 điểm', 'Điểm chuẩn ngành hệ thống thông tin năm 2018: 19 điểm', 'Điểm chuẩn ngành hệ thống thông tin năm 2019: 22.6 điểm', 'Điểm chuẩn ngành hệ thống thông tin năm 2020: 24.6 điểm', 'Điểm chuẩn ngành hệ thống thông tin năm 2021: 23.6 điểm', 'Điểm chuẩn ngành khoa học máy tính năm 2018: 19.6 điểm', 'Điểm chuẩn ngành khoa học máy tính năm 2019: 22 điểm', 'Điểm chuẩn ngành khoa học máy tính năm 2020: 23 điểm', 'Điểm chuẩn ngành khoa học máy tính năm 2021: 24 điểm', 'Điểm chuẩn ngành kỹ thuật phần mềm năm 2018: 20.2 điểm', 'Điểm chuẩn ngành kỹ thuật phần mềm năm 2019: 24.2 điểm', 'Điểm chuẩn ngành kỹ thuật phần mềm năm 2020: 25.2 điểm', 'Điểm chuẩn ngành kỹ thuật phần mềm năm 2021: 24.4 điểm', 'Đối tượng tuyển sinh ngành công nghệ thông tin: Học sinh tốt nghiệp THPT hoặc tương đương', 'Đối tượng tuyển sinh ngành hệ thống thông tin: Học sinh tốt nghiệp THPT hoặc tương đương', 'Đối tượng tuyển sinh ngành khoa học máy tính: Học sinh tốt nghiệp THPT hoặc tương đương', 'Đối tượng tuyển sinh ngành kỹ thuật phần mềm: Học sinh tốt nghiệp THPT hoặc tương đương']\n",
            "149\n",
            "[113 113 113 ... 117 117 117]\n"
          ],
          "name": "stdout"
        }
      ]
    },
    {
      "cell_type": "code",
      "metadata": {
        "id": "4kFZKbafVz-r"
      },
      "source": [
        "def tienxuly(document): \n",
        "    document = ViTokenizer.tokenize(document)\n",
        "    # đưa về lower\n",
        "    document = document.lower()\n",
        "    # xóa các ký tự không cần thiết\n",
        "    document = re.sub(r'[^\\s\\wáàảãạăắằẳẵặâấầẩẫậéèẻẽẹêếềểễệóòỏõọôốồổỗộơớờởỡợíìỉĩịúùủũụưứừửữựýỳỷỹỵđ_]',' ',document)\n",
        "    # xóa khoảng trắng thừa\n",
        "    document = re.sub(r'\\s+', ' ', document).strip()\n",
        "    return document"
      ],
      "execution_count": 5,
      "outputs": []
    },
    {
      "cell_type": "code",
      "metadata": {
        "colab": {
          "base_uri": "https://localhost:8080/"
        },
        "id": "_hz63sz9Xgpw",
        "outputId": "3ed2c693-92c3-4098-a57d-e7db31ee3262"
      },
      "source": [
        "for i in range(0,X.count()):\n",
        "  X[i] = tienxuly(X[i])\n",
        "\n",
        "X"
      ],
      "execution_count": 6,
      "outputs": [
        {
          "output_type": "execute_result",
          "data": {
            "text/plain": [
              "0                                            tạm_biệt bot\n",
              "1                                                 goodbye\n",
              "2                                    tạm_biệt mày nhé bot\n",
              "3                                           chào tạm_biệt\n",
              "4                                ngày_mai gặp lại nhé bot\n",
              "                              ...                        \n",
              "2419    ngành học nào là lựa_chọn tốt nhất trong khoa ...\n",
              "2420    phân_biệt giữa ngành khoa_học máy_tính và ngàn...\n",
              "2421    phân_biệt khác_biệt tốt nhất đặc_biệt phân_biệ...\n",
              "2422    phân_biệt giữa các ngành học trong khoa công_n...\n",
              "2423    nên lựa_chọn ngành học nào trong khoa công_ngh...\n",
              "Name: question, Length: 2424, dtype: object"
            ]
          },
          "metadata": {},
          "execution_count": 6
        }
      ]
    },
    {
      "cell_type": "code",
      "metadata": {
        "colab": {
          "base_uri": "https://localhost:8080/",
          "height": 333
        },
        "id": "o0oaY0SaXklo",
        "outputId": "7cc881e5-32ab-45d5-974b-bca1f721e257"
      },
      "source": [
        "#chung ta se loai bo stop word trong van ban\n",
        "\n",
        "\n",
        "#bay h dau tien minh muon biet cac stop word o dau va cho nao\n",
        "\n",
        "#tokens = [t for t in text.split()]\n",
        "tokens = []\n",
        "\n",
        "for i in range(0,X.count()):\n",
        "  for j in X[i].split():\n",
        "    tokens.append(j)\n",
        "\n",
        "freq = nltk.FreqDist(tokens)\n",
        "freq.plot(20, cumulative=False)"
      ],
      "execution_count": 7,
      "outputs": [
        {
          "output_type": "display_data",
          "data": {
            "image/png": "[encoded data removed]",
            "text/plain": [
              "<Figure size 432x288 with 1 Axes>"
            ]
          },
          "metadata": {
            "needs_background": "light"
          }
        }
      ]
    },
    {
      "cell_type": "code",
      "metadata": {
        "colab": {
          "base_uri": "https://localhost:8080/",
          "height": 54
        },
        "id": "8cWiDWlSXqsS",
        "outputId": "72797b8e-d699-4cab-d24b-229fe6f9b414"
      },
      "source": [
        "#nhu vay chung ta biet mot so tu xuat hien xuat hien thuong xuyen va no se anh huong toi mo hinh can du doan\n",
        "#chung ta se loai bo chung de cho model co do chinh xac cao hon\n",
        "\n",
        "stopword = [\"nghành\",\"gì\",\"là\",\"trường\",\"năm\"]\n",
        " \n",
        "def remove_stopwords(line):\n",
        "    words = []\n",
        "    for word in line.strip().split():\n",
        "        if word not in stopword:\n",
        "            words.append(word)\n",
        "    return ' '.join(words)\n",
        "\n",
        "print(X[4])\n",
        "demo = remove_stopwords(X[4])\n",
        "demo"
      ],
      "execution_count": 8,
      "outputs": [
        {
          "output_type": "stream",
          "text": [
            "ngày_mai gặp lại nhé bot\n"
          ],
          "name": "stdout"
        },
        {
          "output_type": "execute_result",
          "data": {
            "application/vnd.google.colaboratory.intrinsic+json": {
              "type": "string"
            },
            "text/plain": [
              "'ngày_mai gặp lại nhé bot'"
            ]
          },
          "metadata": {},
          "execution_count": 8
        }
      ]
    },
    {
      "cell_type": "code",
      "metadata": {
        "id": "6ow-QIMOX3zZ"
      },
      "source": [
        "for i in range(0,X.count()):\n",
        "  X[i]= remove_stopwords(X[i])"
      ],
      "execution_count": 9,
      "outputs": []
    },
    {
      "cell_type": "code",
      "metadata": {
        "id": "kzvWVAZeX7cA"
      },
      "source": [
        "#buoc tiep theo chung ta se xay dung bo tu dien cho may hoc\n",
        "vectorizer = CountVectorizer()\n",
        "\n",
        "def transform(data):\n",
        "  data= list(data)\n",
        "  return vectorizer.fit_transform(data).todense()\n",
        "\n",
        "data1 = transform(X)"
      ],
      "execution_count": 10,
      "outputs": []
    },
    {
      "cell_type": "code",
      "metadata": {
        "colab": {
          "base_uri": "https://localhost:8080/"
        },
        "id": "bLUFQCKjX-jY",
        "outputId": "231278e4-fbd2-49e0-cff3-216c4fc372f5"
      },
      "source": [
        "print(data1)"
      ],
      "execution_count": 11,
      "outputs": [
        {
          "output_type": "stream",
          "text": [
            "[[0 0 0 ... 0 0 0]\n",
            " [0 0 0 ... 0 0 0]\n",
            " [0 0 0 ... 0 0 0]\n",
            " ...\n",
            " [0 0 0 ... 0 0 0]\n",
            " [0 0 0 ... 0 0 0]\n",
            " [0 0 0 ... 0 0 0]]\n"
          ],
          "name": "stdout"
        }
      ]
    },
    {
      "cell_type": "code",
      "metadata": {
        "colab": {
          "base_uri": "https://localhost:8080/"
        },
        "id": "pZTttpvcYDaq",
        "outputId": "5daabf6e-ba30-4dc2-805f-06a1531c0062"
      },
      "source": [
        "#chia du lieu ra lam 2 phan\n",
        "X_train, X_test, Y_train, Y_test = train_test_split(data1, label, test_size=0.1, random_state=0)\n",
        "print(X_train)\n",
        "print(X_test)\n",
        "print(Y_train)\n",
        "print(Y_test)"
      ],
      "execution_count": 12,
      "outputs": [
        {
          "output_type": "stream",
          "text": [
            "[[0 0 0 ... 0 0 0]\n",
            " [0 0 0 ... 0 0 0]\n",
            " [0 0 0 ... 0 0 0]\n",
            " ...\n",
            " [0 0 0 ... 0 0 0]\n",
            " [0 0 0 ... 0 0 0]\n",
            " [0 0 0 ... 0 0 0]]\n",
            "[[0 0 0 ... 0 0 0]\n",
            " [0 0 0 ... 0 0 0]\n",
            " [0 0 0 ... 0 0 0]\n",
            " ...\n",
            " [0 0 0 ... 0 0 0]\n",
            " [0 0 0 ... 0 0 0]\n",
            " [0 0 0 ... 0 0 0]]\n",
            "[143 140  88 ...  82  85 126]\n",
            "[139  82 136  98 144 106 133 107  66  69 106 102 141 127  47 122 147 108\n",
            " 147 107 112  95  82 117  66  89 103  64  77  47  47 118 118 117 128  50\n",
            " 129 107  87  97 105  64  83 102 111 133 134   5  73  33 137 113   3  90\n",
            "  47 131 106 142  81 140  49 134  83 134 143 125  56  80  50  82  99 129\n",
            "  78  49  49  46 138  43  69 114 104 115 144 110  60 136  88  52 114  86\n",
            "  97 130  57  46  30 146  56 117 123 123 118   0   4  47  56 140  50  89\n",
            "  84  65  50  77  56  84 110  77  46  97   3  74  71 138 143 137  53 105\n",
            "  77 118 129 105 122  68  85 118 140  84 105  50  55 138 114  96  79  81\n",
            "  42 122  64 113  56 120  83 123  98  82 133  36 144  96  53  95 140  71\n",
            "   3  73  55 126 142 105  87  73 130 145 118  85 123 118 123  96 110  63\n",
            " 142  12 114 131 140 140  81 142  51  59  77  95  95 143 104 101  62  87\n",
            " 144  66  52   5 102 147  91 146 122  50 135  80 118 113 123  96 130 108\n",
            " 126 142 131 137 140  83 137 143 109 101   2 119   4  92  62  84 118  86\n",
            " 135 143  87 112  89  84  91 118  67]\n"
          ],
          "name": "stdout"
        }
      ]
    },
    {
      "cell_type": "code",
      "metadata": {
        "colab": {
          "base_uri": "https://localhost:8080/"
        },
        "id": "c09OCmk6YHeY",
        "outputId": "0386bd1e-6b7f-49d8-e7fd-19823e6f5596"
      },
      "source": [
        "X_test.shape"
      ],
      "execution_count": 13,
      "outputs": [
        {
          "output_type": "execute_result",
          "data": {
            "text/plain": [
              "(243, 593)"
            ]
          },
          "metadata": {},
          "execution_count": 13
        }
      ]
    },
    {
      "cell_type": "code",
      "metadata": {
        "colab": {
          "base_uri": "https://localhost:8080/"
        },
        "id": "D1bdvRk2YLji",
        "outputId": "4189a137-2423-4345-f429-7669f9f8e333"
      },
      "source": [
        "#khoi tao mo hinh\n",
        "#chung ta se dung loai mo hinh multinomial Naive Bayes de phan loai\n",
        "\n",
        "clf= MultinomialNB()\n",
        "scores = cross_val_score(clf, X_train, Y_train, cv=5)\n",
        "print(\"%0.2f  accuracy with a standard deviation of %0.2f\" % (scores.mean()*100, scores.std()))"
      ],
      "execution_count": 14,
      "outputs": [
        {
          "output_type": "stream",
          "text": [
            "/usr/local/lib/python3.7/dist-packages/sklearn/model_selection/_split.py:667: UserWarning: The least populated class in y has only 1 members, which is less than n_splits=5.\n",
            "  % (min_groups, self.n_splits)), UserWarning)\n"
          ],
          "name": "stderr"
        },
        {
          "output_type": "stream",
          "text": [
            "78.40  accuracy with a standard deviation of 0.02\n"
          ],
          "name": "stdout"
        }
      ]
    },
    {
      "cell_type": "code",
      "metadata": {
        "colab": {
          "base_uri": "https://localhost:8080/"
        },
        "id": "PpwAHcFXYP_A",
        "outputId": "880a5fe7-4cd8-42f1-bb99-8422726a9f0f"
      },
      "source": [
        "#dua du lieu vao cho model hoc\n",
        "clf.fit(X_train,Y_train)"
      ],
      "execution_count": 15,
      "outputs": [
        {
          "output_type": "execute_result",
          "data": {
            "text/plain": [
              "MultinomialNB(alpha=1.0, class_prior=None, fit_prior=True)"
            ]
          },
          "metadata": {},
          "execution_count": 15
        }
      ]
    },
    {
      "cell_type": "code",
      "metadata": {
        "colab": {
          "base_uri": "https://localhost:8080/"
        },
        "id": "-0TWQ3ODYXYY",
        "outputId": "3db2a277-41a9-402b-80bd-de944d66d866"
      },
      "source": [
        "#kiem tra voi du lieu testing xem do chinh xac cua no la bao nhieu\n",
        "\n",
        "prediction = clf.predict(X_test)\n",
        "print(\"Độ chính xác so với dữ liệu dự đoán và dữ liệu test là: \")\n",
        "accuracy_score(Y_test, prediction)"
      ],
      "execution_count": 16,
      "outputs": [
        {
          "output_type": "stream",
          "text": [
            "Độ chính xác so với dữ liệu dự đoán và dữ liệu test là: \n"
          ],
          "name": "stdout"
        },
        {
          "output_type": "execute_result",
          "data": {
            "text/plain": [
              "0.7654320987654321"
            ]
          },
          "metadata": {},
          "execution_count": 16
        }
      ]
    },
    {
      "cell_type": "code",
      "metadata": {
        "id": "TRuIiAEzYZyg"
      },
      "source": [
        "#bay h se luu file tu vung lai de dung cho sau nay\n",
        "\n",
        "pickle.dump(vectorizer.vocabulary_, open('vocab.pkl', 'wb')) #luu lai\n",
        "pickle.dump(clf, open('NB_ChatBot_model.pkl', 'wb')) #luu model lai\n",
        "#luu cach ma hoa cua nhan lai\n",
        "pickle.dump(le, open('decode_label.pkl', 'wb'))"
      ],
      "execution_count": 17,
      "outputs": []
    }
  ]
}